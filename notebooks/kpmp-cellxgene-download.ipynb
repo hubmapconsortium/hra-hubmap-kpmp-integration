{
 "cells": [
  {
   "cell_type": "markdown",
   "id": "e838fd66-d251-4fb9-af32-a50cfbef3318",
   "metadata": {},
   "source": [
    "# Download KPMP Kidney Datasets from CellxGene\n"
   ]
  },
  {
   "cell_type": "markdown",
   "id": "0f1a4da1",
   "metadata": {},
   "source": [
    "## Imports / functions\n"
   ]
  },
  {
   "cell_type": "code",
   "execution_count": 1,
   "id": "d8b46356-c96e-475a-ac73-0d59fbdf626d",
   "metadata": {},
   "outputs": [],
   "source": [
    "import os\n",
    "from urllib.request import urlretrieve"
   ]
  },
  {
   "cell_type": "code",
   "execution_count": 2,
   "id": "249b3f10",
   "metadata": {},
   "outputs": [],
   "source": [
    "def download_file(url, filename, dir=\".\"):\n",
    "    if not os.path.exists(dir):\n",
    "        os.makedirs(dir, exist_ok = True) # unlike os.mkdir, os.makedirs creates directories recursively\n",
    "    urlretrieve(url, dir + \"/\" + filename)"
   ]
  },
  {
   "cell_type": "markdown",
   "id": "c0c0dc3f-22be-4729-aae7-3fab95dbac4e",
   "metadata": {},
   "source": [
    "## KPMP Data on CellxGene\n",
    "\n",
    "KPMP Atlas v1.5 data is published as a collection on cellxgene at:\n",
    "\n",
    "<https://cellxgene.cziscience.com/collections/0f528c8a-a25c-4840-8fa3-d156fa11086f>\n",
    "\n",
    "This collection contains 2 different datasets:\n",
    "\n",
    "- Single-nucleus RNA-seq of the Adult Human Kidney (Version 1.5)\n",
    "- Single-cell RNA-seq of the Adult Human Kidney (Version 1.5)\n"
   ]
  },
  {
   "cell_type": "markdown",
   "id": "f1c18061",
   "metadata": {},
   "source": [
    "## Data Download\n"
   ]
  },
  {
   "cell_type": "code",
   "execution_count": 3,
   "id": "d847f7f6",
   "metadata": {},
   "outputs": [
    {
     "name": "stdout",
     "output_type": "stream",
     "text": [
      "Downloaded KPMP datasets\n"
     ]
    }
   ],
   "source": [
    "SC_RNASEQ_URL = \"https://datasets.cellxgene.cziscience.com/1c360b0b-eb2f-45a3-aba9-056026b39fa5.h5ad\"\n",
    "SN_RNASEQ_URL = \"https://datasets.cellxgene.cziscience.com/5ccb0043-bb6f-4f00-b7e1-526d2726de9d.h5ad\"\n",
    "\n",
    "download_file(SC_RNASEQ_URL, \"kpmp-sc-rnaseq.h5ad\")\n",
    "download_file(SN_RNASEQ_URL, \"kpmp-sn-rnaseq.h5ad\")\n",
    "print(\"Downloaded KPMP datasets\")"
   ]
  }
 ],
 "metadata": {
  "kernelspec": {
   "display_name": "Python 3 (ipykernel)",
   "language": "python",
   "name": "python3"
  },
  "language_info": {
   "codemirror_mode": {
    "name": "ipython",
    "version": 3
   },
   "file_extension": ".py",
   "mimetype": "text/x-python",
   "name": "python",
   "nbconvert_exporter": "python",
   "pygments_lexer": "ipython3",
   "version": "3.10.12"
  }
 },
 "nbformat": 4,
 "nbformat_minor": 5
}
