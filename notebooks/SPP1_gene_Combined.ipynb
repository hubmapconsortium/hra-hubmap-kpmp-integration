{
 "cells": [
  {
   "cell_type": "code",
   "execution_count": 1,
   "id": "69dbb84f",
   "metadata": {},
   "outputs": [
    {
     "name": "stdout",
     "output_type": "stream",
     "text": [
      "Requirement already satisfied: scanpy in /home/bherr/workspaces/hubmap/hra-hubmap-kpmp-integration/.venv/lib/python3.10/site-packages (1.10.3)\n",
      "Requirement already satisfied: scikit-learn>=0.24 in /home/bherr/workspaces/hubmap/hra-hubmap-kpmp-integration/.venv/lib/python3.10/site-packages (from scanpy) (1.5.2)\n",
      "Requirement already satisfied: umap-learn!=0.5.0,>=0.5 in /home/bherr/workspaces/hubmap/hra-hubmap-kpmp-integration/.venv/lib/python3.10/site-packages (from scanpy) (0.5.6)\n",
      "Requirement already satisfied: h5py>=3.1 in /home/bherr/workspaces/hubmap/hra-hubmap-kpmp-integration/.venv/lib/python3.10/site-packages (from scanpy) (3.12.1)\n",
      "Requirement already satisfied: seaborn>=0.13 in /home/bherr/workspaces/hubmap/hra-hubmap-kpmp-integration/.venv/lib/python3.10/site-packages (from scanpy) (0.13.2)\n",
      "Requirement already satisfied: statsmodels>=0.13 in /home/bherr/workspaces/hubmap/hra-hubmap-kpmp-integration/.venv/lib/python3.10/site-packages (from scanpy) (0.14.4)\n",
      "Requirement already satisfied: numpy>=1.23 in /home/bherr/workspaces/hubmap/hra-hubmap-kpmp-integration/.venv/lib/python3.10/site-packages (from scanpy) (2.0.2)\n",
      "Requirement already satisfied: session-info in /home/bherr/workspaces/hubmap/hra-hubmap-kpmp-integration/.venv/lib/python3.10/site-packages (from scanpy) (1.0.0)\n",
      "Requirement already satisfied: matplotlib>=3.6 in /home/bherr/workspaces/hubmap/hra-hubmap-kpmp-integration/.venv/lib/python3.10/site-packages (from scanpy) (3.9.2)\n",
      "Requirement already satisfied: pynndescent>=0.5 in /home/bherr/workspaces/hubmap/hra-hubmap-kpmp-integration/.venv/lib/python3.10/site-packages (from scanpy) (0.5.13)\n",
      "Requirement already satisfied: networkx>=2.7 in /home/bherr/workspaces/hubmap/hra-hubmap-kpmp-integration/.venv/lib/python3.10/site-packages (from scanpy) (3.3)\n",
      "Requirement already satisfied: numba>=0.56 in /home/bherr/workspaces/hubmap/hra-hubmap-kpmp-integration/.venv/lib/python3.10/site-packages (from scanpy) (0.60.0)\n",
      "Requirement already satisfied: pandas>=1.5 in /home/bherr/workspaces/hubmap/hra-hubmap-kpmp-integration/.venv/lib/python3.10/site-packages (from scanpy) (2.2.3)\n",
      "Requirement already satisfied: joblib in /home/bherr/workspaces/hubmap/hra-hubmap-kpmp-integration/.venv/lib/python3.10/site-packages (from scanpy) (1.4.2)\n",
      "Requirement already satisfied: anndata>=0.8 in /home/bherr/workspaces/hubmap/hra-hubmap-kpmp-integration/.venv/lib/python3.10/site-packages (from scanpy) (0.10.9)\n",
      "Requirement already satisfied: natsort in /home/bherr/workspaces/hubmap/hra-hubmap-kpmp-integration/.venv/lib/python3.10/site-packages (from scanpy) (8.4.0)\n",
      "Requirement already satisfied: packaging>=21.3 in /home/bherr/workspaces/hubmap/hra-hubmap-kpmp-integration/.venv/lib/python3.10/site-packages (from scanpy) (24.1)\n",
      "Requirement already satisfied: patsy in /home/bherr/workspaces/hubmap/hra-hubmap-kpmp-integration/.venv/lib/python3.10/site-packages (from scanpy) (0.5.6)\n",
      "Requirement already satisfied: scipy>=1.8 in /home/bherr/workspaces/hubmap/hra-hubmap-kpmp-integration/.venv/lib/python3.10/site-packages (from scanpy) (1.14.1)\n",
      "Requirement already satisfied: tqdm in /home/bherr/workspaces/hubmap/hra-hubmap-kpmp-integration/.venv/lib/python3.10/site-packages (from scanpy) (4.66.5)\n",
      "Requirement already satisfied: legacy-api-wrap>=1.4 in /home/bherr/workspaces/hubmap/hra-hubmap-kpmp-integration/.venv/lib/python3.10/site-packages (from scanpy) (1.4)\n",
      "Requirement already satisfied: exceptiongroup in /home/bherr/workspaces/hubmap/hra-hubmap-kpmp-integration/.venv/lib/python3.10/site-packages (from anndata>=0.8->scanpy) (1.2.2)\n",
      "Requirement already satisfied: array-api-compat!=1.5,>1.4 in /home/bherr/workspaces/hubmap/hra-hubmap-kpmp-integration/.venv/lib/python3.10/site-packages (from anndata>=0.8->scanpy) (1.8)\n",
      "Requirement already satisfied: fonttools>=4.22.0 in /home/bherr/workspaces/hubmap/hra-hubmap-kpmp-integration/.venv/lib/python3.10/site-packages (from matplotlib>=3.6->scanpy) (4.54.1)\n",
      "Requirement already satisfied: contourpy>=1.0.1 in /home/bherr/workspaces/hubmap/hra-hubmap-kpmp-integration/.venv/lib/python3.10/site-packages (from matplotlib>=3.6->scanpy) (1.3.0)\n",
      "Requirement already satisfied: pillow>=8 in /home/bherr/workspaces/hubmap/hra-hubmap-kpmp-integration/.venv/lib/python3.10/site-packages (from matplotlib>=3.6->scanpy) (10.4.0)\n",
      "Requirement already satisfied: python-dateutil>=2.7 in /home/bherr/workspaces/hubmap/hra-hubmap-kpmp-integration/.venv/lib/python3.10/site-packages (from matplotlib>=3.6->scanpy) (2.9.0.post0)\n",
      "Requirement already satisfied: cycler>=0.10 in /home/bherr/workspaces/hubmap/hra-hubmap-kpmp-integration/.venv/lib/python3.10/site-packages (from matplotlib>=3.6->scanpy) (0.12.1)\n",
      "Requirement already satisfied: pyparsing>=2.3.1 in /home/bherr/workspaces/hubmap/hra-hubmap-kpmp-integration/.venv/lib/python3.10/site-packages (from matplotlib>=3.6->scanpy) (3.1.4)\n",
      "Requirement already satisfied: kiwisolver>=1.3.1 in /home/bherr/workspaces/hubmap/hra-hubmap-kpmp-integration/.venv/lib/python3.10/site-packages (from matplotlib>=3.6->scanpy) (1.4.7)\n",
      "Requirement already satisfied: llvmlite<0.44,>=0.43.0dev0 in /home/bherr/workspaces/hubmap/hra-hubmap-kpmp-integration/.venv/lib/python3.10/site-packages (from numba>=0.56->scanpy) (0.43.0)\n",
      "Requirement already satisfied: tzdata>=2022.7 in /home/bherr/workspaces/hubmap/hra-hubmap-kpmp-integration/.venv/lib/python3.10/site-packages (from pandas>=1.5->scanpy) (2024.2)\n",
      "Requirement already satisfied: pytz>=2020.1 in /home/bherr/workspaces/hubmap/hra-hubmap-kpmp-integration/.venv/lib/python3.10/site-packages (from pandas>=1.5->scanpy) (2024.2)\n",
      "Requirement already satisfied: threadpoolctl>=3.1.0 in /home/bherr/workspaces/hubmap/hra-hubmap-kpmp-integration/.venv/lib/python3.10/site-packages (from scikit-learn>=0.24->scanpy) (3.5.0)\n",
      "Requirement already satisfied: six in /home/bherr/workspaces/hubmap/hra-hubmap-kpmp-integration/.venv/lib/python3.10/site-packages (from patsy->scanpy) (1.16.0)\n",
      "Requirement already satisfied: stdlib_list in /home/bherr/workspaces/hubmap/hra-hubmap-kpmp-integration/.venv/lib/python3.10/site-packages (from session-info->scanpy) (0.10.0)\n"
     ]
    }
   ],
   "source": [
    "!pip install scanpy"
   ]
  },
  {
   "cell_type": "code",
   "execution_count": 2,
   "id": "ed770d4d-fe02-408d-8d34-c834a7ebe0c3",
   "metadata": {},
   "outputs": [
    {
     "name": "stdout",
     "output_type": "stream",
     "text": [
      "Processing dataset: KPMP SC RNAseq\n",
      "Processing dataset: KPMP SN RNAseq\n",
      "Processing dataset: HuBMAP Left Kidney\n",
      "Processing dataset: HuBMAP Right Kidney\n",
      "Combined and normalized SPP1 gene expression data has been saved to combined_spp1_expression.csv\n"
     ]
    }
   ],
   "source": [
    "import scanpy as sc\n",
    "import pandas as pd\n",
    "\n",
    "# Normalization functions\n",
    "def normalize_category(value):\n",
    "    if pd.isna(value):  # Check if the value is missing\n",
    "        return \"Unknown\"\n",
    "    value = value.strip()\n",
    "    return \"Unknown\" if value == \"\" or value == \"unknown\" else value\n",
    "\n",
    "def normalized_age(age):\n",
    "    if pd.isna(age):\n",
    "        return \"Unknown\"\n",
    "    age_cases = {\n",
    "        \"first\": 0, \"second\": 10, \"third\": 20, \"fourth\": 30,\n",
    "        \"fifth\": 40, \"sixth\": 50, \"seventh\": 60, \"eighth\": 70,\n",
    "        \"nineth\": 80, \"tenth\": 90\n",
    "    }\n",
    "    age_str = str(age_cases.get(age.split(\" \")[0], age)) if isinstance(age, str) else str(age)\n",
    "    return f\"{age_str[0]}0-{age_str[0]}9\" if age_str and age_str[0].isdigit() else normalize_category(age)\n",
    "\n",
    "def normalize_race(race):\n",
    "    if pd.isna(race):\n",
    "        return \"Unknown\"\n",
    "    return \"Black or African American\" if race == \"African American\" else normalize_category(race)\n",
    "\n",
    "# Extract SPP1 gene expression and normalize the data\n",
    "def find_spp1_gene_and_normalize(input_h5ad, gene_name, gene_column):\n",
    "    # Read the h5ad file\n",
    "    matrix = sc.read_h5ad(input_h5ad, backed='r')\n",
    "\n",
    "    # Find the SPP1 gene location\n",
    "    spp1_var_idx = matrix.var[gene_column] == gene_name\n",
    "    if spp1_var_idx.sum() == 0:\n",
    "        raise ValueError(f\"Gene {gene_name} not found in {gene_column}\")\n",
    "\n",
    "    # Get SPP1 gene expression data\n",
    "    spp1_expression = matrix[:, spp1_var_idx].X\n",
    "    spp1_expression_df = pd.DataFrame(spp1_expression, index=matrix.obs.index, columns=[gene_name])\n",
    "\n",
    "    # Merge obs data with SPP1 expression data\n",
    "    result_df = pd.concat([matrix.obs, spp1_expression_df], axis=1)\n",
    "\n",
    "    # Check if 'age', 'sex', 'race' columns exist in obs data and normalize them\n",
    "    if 'age' in result_df.columns:\n",
    "        result_df['age'] = result_df['age'].apply(normalized_age)\n",
    "    else:\n",
    "        result_df['age'] = \"Unknown\"  # If 'age' column is missing, fill with \"Unknown\"\n",
    "\n",
    "    if 'sex' in result_df.columns:\n",
    "        result_df['sex'] = result_df['sex'].apply(normalize_category)\n",
    "    else:\n",
    "        result_df['sex'] = \"Unknown\"  # If 'sex' column is missing, fill with \"Unknown\"\n",
    "\n",
    "    if 'race' in result_df.columns:\n",
    "        result_df['race'] = result_df['race'].apply(normalize_race)\n",
    "    else:\n",
    "        result_df['race'] = \"Unknown\"  # If 'race' column is missing, fill with \"Unknown\"\n",
    "\n",
    "    return result_df\n",
    "\n",
    "# Combine datasets and save the results\n",
    "def combine_and_save_data(datasets, gene_name, kpmp_gene_column, hubmap_gene_column, output_csv):\n",
    "    combined_df = pd.DataFrame()\n",
    "    \n",
    "    for dataset_name, h5ad_path in datasets.items():\n",
    "        print(f\"Processing dataset: {dataset_name}\")\n",
    "        \n",
    "        # Select the gene_column based on the dataset source\n",
    "        if 'KPMP' in dataset_name:\n",
    "            gene_column = kpmp_gene_column\n",
    "        else:\n",
    "            gene_column = hubmap_gene_column\n",
    "        \n",
    "        normalized_data = find_spp1_gene_and_normalize(h5ad_path, gene_name, gene_column)\n",
    "        normalized_data['dataset'] = dataset_name  # Add dataset name\n",
    "        combined_df = pd.concat([combined_df, normalized_data])\n",
    "\n",
    "    # Save the combined results to a CSV file\n",
    "    combined_df.to_csv(output_csv)\n",
    "    print(f\"Combined and normalized SPP1 gene expression data has been saved to {output_csv}\")\n",
    "\n",
    "# Dataset file paths\n",
    "datasets = {\n",
    "    'KPMP SC RNAseq': 'kpmp-sc-rnaseq.h5ad',\n",
    "    'KPMP SN RNAseq': 'kpmp-sn-rnaseq.h5ad',\n",
    "    'HuBMAP Left Kidney': 'hubmap-LK-processed.h5ad',\n",
    "    'HuBMAP Right Kidney': 'hubmap-RK-processed.h5ad'\n",
    "}\n",
    "\n",
    "# Output file path\n",
    "output_csv = 'combined_spp1_expression.csv'\n",
    "\n",
    "# Run the function with different gene columns for KPMP and HuBMAP datasets\n",
    "combine_and_save_data(datasets, 'SPP1', 'feature_name', 'hugo_symbol', output_csv)\n"
   ]
  },
  {
   "cell_type": "code",
   "execution_count": 3,
   "id": "eaf1f464-553a-48d0-855b-990d46ab9714",
   "metadata": {},
   "outputs": [
    {
     "name": "stdout",
     "output_type": "stream",
     "text": [
      ",orig.ident,nCount_RNA,SpecimenID,LibraryID,SampleID,Run,clusterNumber,subclass.l1,dataSource,diseasetype,Race,clusterClass,organism_ontology_term_id,assay_ontology_term_id,sampletype,disease_ontology_term_id,sex_ontology_term_id,donor_id,suspension_type,tissue_ontology_term_id,tissue_type,self_reported_ethnicity_ontology_term_id,development_stage_ontology_term_id,Age_binned,cell_type_ontology_term_id,author_cell_type,diabetes_history,hypertension,eGFR,is_primary_data,disease_category,nFeature_RNA,percent.mt,cell_type,assay,disease,organism,sex,tissue,self_reported_ethnicity,development_stage,observation_joinid,SPP1,age,race,dataset,library_id,percent.er,subclass.l2,class,experiment_id,specimen,region,percent.cortex,percent.medulla,uuid,hubmap_id,height,weight,bmi,cause_of_death,barcode,azimuth_label,azimuth_id,predicted_CLID,predicted_label,cl_match_type,prediction_score,n_genes,n_counts,leiden\n",
      "S2008000605HRT_AAACCCAGTGCACATT-1,S2008000605HRT,10505.0,S-2008-000605-HRT,5655_EO-2,163-3,5655_EO,2,PC,KPMP,Reference,White,epithelial cells,NCBITaxon:9606,EFO:0009922,HRT,PATO:0000461,PATO:0000384,163-3,cell,UBERON:0002113,tissue,HANCESTRO:0005,HsapDv:0000240,sixth decade human stage,CL:1001431,IMCD,No,No,unknown,True,Healthy_stone_donor,3653.0,8.989941939073615,kidney collecting duct principal cell,10x 3' v3,normal,Homo sapiens,male,kidney,European,sixth decade human stage,%qABS>?Y(#,\"<Compressed Sparse Row sparse matrix of dtype 'float32'\n",
      "\twith 1 stored elements and shape (1, 1)>\n"
     ]
    }
   ],
   "source": [
    "!head -3 combined_spp1_expression.csv"
   ]
  }
 ],
 "metadata": {
  "kernelspec": {
   "display_name": ".venv",
   "language": "python",
   "name": "python3"
  },
  "language_info": {
   "codemirror_mode": {
    "name": "ipython",
    "version": 3
   },
   "file_extension": ".py",
   "mimetype": "text/x-python",
   "name": "python",
   "nbconvert_exporter": "python",
   "pygments_lexer": "ipython3",
   "version": "3.10.12"
  }
 },
 "nbformat": 4,
 "nbformat_minor": 5
}
