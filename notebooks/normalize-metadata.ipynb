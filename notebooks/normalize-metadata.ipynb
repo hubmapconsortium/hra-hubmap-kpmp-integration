{
 "cells": [
  {
   "cell_type": "code",
   "execution_count": 1,
   "metadata": {},
   "outputs": [
    {
     "name": "stdout",
     "output_type": "stream",
     "text": [
      "Requirement already satisfied: anndata in /home/bherr/workspaces/hubmap/hra-hubmap-kpmp-integration/.venv/lib/python3.10/site-packages (0.10.9)\n",
      "Requirement already satisfied: pandas in /home/bherr/workspaces/hubmap/hra-hubmap-kpmp-integration/.venv/lib/python3.10/site-packages (2.2.3)\n",
      "Requirement already satisfied: packaging>=20.0 in /home/bherr/workspaces/hubmap/hra-hubmap-kpmp-integration/.venv/lib/python3.10/site-packages (from anndata) (24.1)\n",
      "Requirement already satisfied: h5py>=3.1 in /home/bherr/workspaces/hubmap/hra-hubmap-kpmp-integration/.venv/lib/python3.10/site-packages (from anndata) (3.12.1)\n",
      "Requirement already satisfied: scipy>1.8 in /home/bherr/workspaces/hubmap/hra-hubmap-kpmp-integration/.venv/lib/python3.10/site-packages (from anndata) (1.14.1)\n",
      "Requirement already satisfied: natsort in /home/bherr/workspaces/hubmap/hra-hubmap-kpmp-integration/.venv/lib/python3.10/site-packages (from anndata) (8.4.0)\n",
      "Requirement already satisfied: array-api-compat!=1.5,>1.4 in /home/bherr/workspaces/hubmap/hra-hubmap-kpmp-integration/.venv/lib/python3.10/site-packages (from anndata) (1.8)\n",
      "Requirement already satisfied: numpy>=1.23 in /home/bherr/workspaces/hubmap/hra-hubmap-kpmp-integration/.venv/lib/python3.10/site-packages (from anndata) (2.1.1)\n",
      "Requirement already satisfied: exceptiongroup in /home/bherr/workspaces/hubmap/hra-hubmap-kpmp-integration/.venv/lib/python3.10/site-packages (from anndata) (1.2.2)\n",
      "Requirement already satisfied: tzdata>=2022.7 in /home/bherr/workspaces/hubmap/hra-hubmap-kpmp-integration/.venv/lib/python3.10/site-packages (from pandas) (2024.2)\n",
      "Requirement already satisfied: python-dateutil>=2.8.2 in /home/bherr/workspaces/hubmap/hra-hubmap-kpmp-integration/.venv/lib/python3.10/site-packages (from pandas) (2.9.0.post0)\n",
      "Requirement already satisfied: pytz>=2020.1 in /home/bherr/workspaces/hubmap/hra-hubmap-kpmp-integration/.venv/lib/python3.10/site-packages (from pandas) (2024.2)\n",
      "Requirement already satisfied: six>=1.5 in /home/bherr/workspaces/hubmap/hra-hubmap-kpmp-integration/.venv/lib/python3.10/site-packages (from python-dateutil>=2.8.2->pandas) (1.16.0)\n"
     ]
    }
   ],
   "source": [
    "!pip install anndata pandas"
   ]
  },
  {
   "cell_type": "code",
   "execution_count": 2,
   "metadata": {},
   "outputs": [],
   "source": [
    "import anndata\n",
    "import pandas as pd"
   ]
  },
  {
   "cell_type": "code",
   "execution_count": 3,
   "metadata": {},
   "outputs": [],
   "source": [
    "def h5ad_obs_to_csv(input_h5ad):\n",
    "    output_csv = input_h5ad.replace('.h5ad', '.obs.csv')\n",
    "    x = anndata.read_h5ad(input_h5ad, backed='r')\n",
    "    x.obs.to_csv(output_csv)\n"
   ]
  },
  {
   "cell_type": "code",
   "execution_count": 4,
   "metadata": {},
   "outputs": [],
   "source": [
    "datasets = {\n",
    "  'KPMP SC RNAseq': 'kpmp-sc-rnaseq.h5ad',\n",
    "  'KPMP SN RNAseq': 'kpmp-sn-rnaseq.h5ad',\n",
    "  'HuBMAP Left Kidney': 'hubmap-LK-processed.h5ad',\n",
    "  'HuBMAP Right Kidney': 'hubmap-RK-processed.h5ad'\n",
    "}"
   ]
  },
  {
   "cell_type": "code",
   "execution_count": 5,
   "metadata": {},
   "outputs": [],
   "source": [
    "for h5ad in datasets.values():\n",
    "    h5ad_obs_to_csv(h5ad)"
   ]
  },
  {
   "cell_type": "code",
   "execution_count": 6,
   "metadata": {},
   "outputs": [
    {
     "name": "stdout",
     "output_type": "stream",
     "text": [
      "==> all-normalized-obs.csv <==\n",
      "consortium,collection,dataset_id,cell_id,cl_id,cl_label,gene_count,age,sex,race\n",
      "\n",
      "==> hubmap-LK-processed.obs.csv <==\n",
      "cell_id,uuid,hubmap_id,age,sex,height,weight,bmi,cause_of_death,race,barcode,dataset,azimuth_label,azimuth_id,predicted_CLID,predicted_label,cl_match_type,prediction_score,n_genes,n_counts,leiden\n",
      "853ab5348f619043ab2f997ac8ae14f0-AAACCCACAAGGTCTT,853ab5348f619043ab2f997ac8ae14f0,HBM344.QRJX.878,25.0,Female,160.0,86.0,33.5,Anoxia,White,AAACCCACAAGGTCTT,853ab5348f619043ab2f997ac8ae14f0,Inner Medullary Collecting Duct,AZ:0000043,CL:1000718,kidney inner medulla collecting duct principal cell,skos:exactMatch,0.496638591002264,564,708.0403,6\n",
      "853ab5348f619043ab2f997ac8ae14f0-AAACCCACAGTAGTGG,853ab5348f619043ab2f997ac8ae14f0,HBM344.QRJX.878,25.0,Female,160.0,86.0,33.5,Anoxia,White,AAACCCACAGTAGTGG,853ab5348f619043ab2f997ac8ae14f0,Inner Medullary Collecting Duct,AZ:0000043,CL:1000718,kidney inner medulla collecting duct principal cell,skos:exactMatch,0.518361055840066,425,459.7237,6\n",
      "\n",
      "==> hubmap-RK-processed.obs.csv <==\n",
      "cell_id,uuid,hubmap_id,age,sex,height,weight,bmi,cause_of_death,race,barcode,dataset,azimuth_label,azimuth_id,predicted_CLID,predicted_label,cl_match_type,prediction_score,n_genes,n_counts,leiden\n",
      "a95f2c79bb637141f7e6874eddc8e274-AAACATCGAAACATCGAAGGTACA,a95f2c79bb637141f7e6874eddc8e274,HBM436.XFFT.833,57.0,Female,160.0,50.2,19.6,Cerebrovascular accident,White,AAACATCGAAACATCGAAGGTACA,a95f2c79bb637141f7e6874eddc8e274,Connecting Tubule,AZ:0000027,CL:1000768,kidney connecting tubule epithelial cell,skos:exactMatch,0.579896775861199,237,402.15268,3\n",
      "a95f2c79bb637141f7e6874eddc8e274-AAACATCGAAACATCGAGTACAAG,a95f2c79bb637141f7e6874eddc8e274,HBM436.XFFT.833,57.0,Female,160.0,50.2,19.6,Cerebrovascular accident,White,AAACATCGAAACATCGAGTACAAG,a95f2c79bb637141f7e6874eddc8e274,Descending Vasa Recta Endothelial ,AZ:0000038,CL:1001285,vasa recta descending limb cell,skos:exactMatch,0.510247543620329,204,225.79582,1\n",
      "\n",
      "==> kpmp-sc-rnaseq.obs.csv <==\n",
      ",orig.ident,nCount_RNA,SpecimenID,LibraryID,SampleID,Run,clusterNumber,subclass.l1,dataSource,diseasetype,Race,clusterClass,organism_ontology_term_id,assay_ontology_term_id,sampletype,disease_ontology_term_id,sex_ontology_term_id,donor_id,suspension_type,tissue_ontology_term_id,tissue_type,self_reported_ethnicity_ontology_term_id,development_stage_ontology_term_id,Age_binned,cell_type_ontology_term_id,author_cell_type,diabetes_history,hypertension,eGFR,is_primary_data,disease_category,nFeature_RNA,percent.mt,cell_type,assay,disease,organism,sex,tissue,self_reported_ethnicity,development_stage,observation_joinid\n",
      "S2008000605HRT_AAACCCAGTGCACATT-1,S2008000605HRT,10505.0,S-2008-000605-HRT,5655_EO-2,163-3,5655_EO,2,PC,KPMP,Reference,White,epithelial cells,NCBITaxon:9606,EFO:0009922,HRT,PATO:0000461,PATO:0000384,163-3,cell,UBERON:0002113,tissue,HANCESTRO:0005,HsapDv:0000240,sixth decade human stage,CL:1001431,IMCD,No,No,unknown,True,Healthy_stone_donor,3653,8.989941939073615,kidney collecting duct principal cell,10x 3' v3,normal,Homo sapiens,male,kidney,European,sixth decade human stage,%qABS>?Y(#\n",
      "S2008000605HRT_AAACCCAGTGCCTACG-1,S2008000605HRT,9698.0,S-2008-000605-HRT,5655_EO-2,163-3,5655_EO,2,PC,KPMP,Reference,White,epithelial cells,NCBITaxon:9606,EFO:0009922,HRT,PATO:0000461,PATO:0000384,163-3,cell,UBERON:0002113,tissue,HANCESTRO:0005,HsapDv:0000240,sixth decade human stage,CL:1001431,IMCD,No,No,unknown,True,Healthy_stone_donor,3072,14.163910655443903,kidney collecting duct principal cell,10x 3' v3,normal,Homo sapiens,male,kidney,European,sixth decade human stage,YkxOG(VHZD\n",
      "\n",
      "==> kpmp-sn-rnaseq.obs.csv <==\n",
      ",library_id,nCount_RNA,nFeature_RNA,percent.er,percent.mt,subclass.l2,subclass.l1,class,experiment_id,suspension_type,assay_ontology_term_id,organism_ontology_term_id,donor_id,specimen,disease_category,disease_ontology_term_id,eGFR,diabetes_history,hypertension,sex_ontology_term_id,development_stage_ontology_term_id,self_reported_ethnicity_ontology_term_id,is_primary_data,region,percent.cortex,percent.medulla,tissue_type,tissue_ontology_term_id,cell_type_ontology_term_id,Age_binned,cell_type,assay,disease,organism,sex,tissue,self_reported_ethnicity,development_stage,observation_joinid\n",
      "KC33_AAACCCAAGTAGTCAA-1,KC33,622.0,528.0,0.3125,2.8125,MAC-M2,IMM,immune cells,BUKMAP_20190529L_10X-R,nucleus,EFO:0009922,NCBITaxon:9606,3535,K1900174_2,Tumor_nephrectomy,PATO:0000461,50-59,No,No,PATO:0000384,HsapDv:0000170,HANCESTRO:0005,True,C,100,0,tissue,UBERON:0001225,CL:1000695,eighth decade human stage,kidney interstitial alternatively activated macrophage,10x 3' v3,normal,Homo sapiens,male,cortex of kidney,European,76-year-old human stage,e2WTHhro_d\n",
      "KC33_AAACCCACAACTGAAA-1,KC33,2645.0,1628.0,0.3743916136278547,0.9734181954324224,DCT1,DCT,epithelial cells,BUKMAP_20190529L_10X-R,nucleus,EFO:0009922,NCBITaxon:9606,3535,K1900174_2,Tumor_nephrectomy,PATO:0000461,50-59,No,No,PATO:0000384,HsapDv:0000170,HANCESTRO:0005,True,C,100,0,tissue,UBERON:0001225,CL:1000849,eighth decade human stage,kidney distal convoluted tubule epithelial cell,10x 3' v3,normal,Homo sapiens,male,cortex of kidney,European,76-year-old human stage,qiOary>Tg^\n"
     ]
    }
   ],
   "source": [
    "!head -3 *.csv"
   ]
  },
  {
   "cell_type": "code",
   "execution_count": 31,
   "metadata": {},
   "outputs": [],
   "source": [
    "def normalize_category(str):\n",
    "    str = str.strip()\n",
    "    if str == \"\" or str == \"unknown\":\n",
    "        return \"Unknown\"\n",
    "    else:\n",
    "        return str\n",
    "\n",
    "def normalized_age(age):\n",
    "    match age.split(\" \")[0]:\n",
    "        case \"first\":\n",
    "            age = 0\n",
    "        case \"second\":\n",
    "            age = 10\n",
    "        case \"third\":\n",
    "            age = 20\n",
    "        case \"fourth\":\n",
    "            age = 30\n",
    "        case \"fifth\":\n",
    "            age = 40\n",
    "        case \"sixth\":\n",
    "            age = 50\n",
    "        case \"seventh\":\n",
    "            age = 60\n",
    "        case \"eighth\":\n",
    "            age = 70\n",
    "        case \"nineth\":\n",
    "            age = 80\n",
    "        case \"tenth\":\n",
    "            age = 90\n",
    "    age = str(age)\n",
    "    if age != \"\" and age[0].isdigit():\n",
    "        return f\"{age[0]}0-{age[0]}9\"\n",
    "    else:\n",
    "        return normalize_category(age)\n",
    "\n",
    "def normalize_race(race):\n",
    "    if race == \"African American\":\n",
    "        return \"Black or African American\"\n",
    "    else:\n",
    "        return normalize_category(race)\n",
    "\n",
    "def normalize_hubmap_row(row, collection):\n",
    "    normalized_row = {\n",
    "        \"consortium\": \"HuBMAP\",\n",
    "        \"collection\": collection,\n",
    "        \"dataset_id\": row[\"uuid\"],\n",
    "        \"cell_id\": row[\"cell_id\"],\n",
    "        \"as_id\": \"UBERON:0002113\",\n",
    "        \"cl_id\": row[\"predicted_CLID\"],\n",
    "        \"cl_label\": row[\"predicted_label\"],\n",
    "        \"gene_count\": row[\"n_genes\"],\n",
    "        \"age\": normalized_age(row[\"age\"]),\n",
    "        \"sex\": normalize_category(row[\"sex\"].title()),\n",
    "        \"race\": normalize_race(row[\"race\"]),\n",
    "        \"disease\": \"normal\"\n",
    "    }\n",
    "    return normalized_row\n",
    "\n",
    "def normalize_kpmp_row(row, collection):\n",
    "    normalized_row = {\n",
    "        \"consortium\": \"KPMP\",\n",
    "        \"collection\": collection,\n",
    "        \"dataset_id\": row.get(\"LibraryID\", row.get(\"library_id\", \"Unknown\")),\n",
    "        \"cell_id\": row[\"\"],\n",
    "        \"as_id\": row[\"tissue_ontology_term_id\"],\n",
    "        \"cl_id\": row[\"cell_type_ontology_term_id\"],\n",
    "        \"cl_label\": row[\"cell_type\"],\n",
    "        \"gene_count\": row[\"nCount_RNA\"],\n",
    "        \"age\": normalized_age(row[\"Age_binned\"]),\n",
    "        \"sex\": normalize_category(row[\"sex\"].title()),\n",
    "        \"race\": normalize_race(row[\"self_reported_ethnicity\"]),\n",
    "        \"disease\": normalize_category(row[\"disease\"])\n",
    "    }\n",
    "    return normalized_row\n",
    "\n",
    "fields = [\"consortium\", \"collection\", \"dataset_id\", \"cell_id\", \"as_id\", \"cl_id\", \"cl_label\", \"gene_count\", \"age\", \"sex\", \"race\", \"disease\"]"
   ]
  },
  {
   "cell_type": "code",
   "execution_count": 32,
   "metadata": {},
   "outputs": [],
   "source": [
    "import csv\n",
    "with open(\"all-normalized-obs.csv\", 'w', newline='') as csvfile:\n",
    "    writer = csv.DictWriter(csvfile, fieldnames=fields)\n",
    "    writer.writeheader()\n",
    "    for (collection, h5ad) in datasets.items():\n",
    "        obs_csv = h5ad.replace(\".h5ad\", \".obs.csv\")\n",
    "        with open(obs_csv, newline='') as obs_csvfile:\n",
    "            reader = csv.DictReader(obs_csvfile)\n",
    "            for row in reader:\n",
    "                if h5ad.startswith(\"hubmap-\"):\n",
    "                    normalized_row = normalize_hubmap_row(row, collection)\n",
    "                else:\n",
    "                    normalized_row = normalize_kpmp_row(row, collection)\n",
    "                writer.writerow(normalized_row)\n"
   ]
  },
  {
   "cell_type": "code",
   "execution_count": 33,
   "metadata": {},
   "outputs": [
    {
     "name": "stdout",
     "output_type": "stream",
     "text": [
      "consortium,collection,dataset_id,cell_id,as_id,cl_id,cl_label,gene_count,age,sex,race,disease\n",
      "KPMP,KPMP SC RNAseq,5655_EO-2,S2008000605HRT_AAACCCAGTGCACATT-1,UBERON:0002113,CL:1001431,kidney collecting duct principal cell,10505.0,50-59,Male,European,normal\n",
      "KPMP,KPMP SC RNAseq,5655_EO-2,S2008000605HRT_AAACCCAGTGCCTACG-1,UBERON:0002113,CL:1001431,kidney collecting duct principal cell,9698.0,50-59,Male,European,normal\n"
     ]
    }
   ],
   "source": [
    "!head -3 all-normalized-obs.csv"
   ]
  },
  {
   "cell_type": "code",
   "execution_count": 34,
   "metadata": {},
   "outputs": [
    {
     "name": "stdout",
     "output_type": "stream",
     "text": [
      "\"consortium\" values (2): KPMP, HuBMAP\n",
      "\"collection\" values (4): KPMP SC RNAseq, KPMP SN RNAseq, HuBMAP Left Kidney, HuBMAP Right Kidney\n",
      "\"dataset_id\" values (379): 5655_EO-2, 5655_EO-3, 5655_EO-4, 5655_EO-5, 6034-EO-2, 6034-EO-3, 6034-EO-4, 6034-EO-5, 1117-EO-1, 1119-EO-1, 613-EO-2, 622-EO-2, 1119-EO-2, 1120-EO-1, 593-EO-1, 763-EO-4, 1120-EO-2, 573-EO-2, 2318-EO...\n",
      "\"cell_id\" values (2304020): S2008000605HRT_AAACCCAGTGCACATT-1, S2008000605HRT_AAACCCAGTGCCTACG-1, S2008000605HRT_AAAGAACGTAGAGACC-1, S2008000605HRT_AAAGAACGTCGGAACA-1, S2008000605HRT_AAAGAACGTTAACAGA-1, S2008000605HRT_AAAGGATAGT...\n",
      "\"as_id\" values (4): UBERON:0002113, UBERON:0001225, UBERON:0001228, UBERON:0000362\n",
      "\"cl_id\" values (63): CL:1001431, CL:1000500, CL:1001111, CL:0000115, CL:0002306, CL:1001106, CL:1001107, CL:1001432, CL:0000910, CL:0000875, CL:0000990, CL:0000084, CL:1000695, CL:0000814, CL:0000786, CL:0000113, CL:0000576, CL:0000236, CL:0000623, CL:0001058, CL:0000097, CL:1000849, CL:0000653, CL:1000452, CL:1000768, CL:1000692, CL:1001318, CL:0000775, CL:1000597, CL:0002319, CL:1000718, CL:4030022, CL:1001285, CL:4030012, CL:1001033, CL:1000714, CL:0000057, CL:1001131, CL:1001005, CL:1000412, CL:4030018, CL:1000717, CL:1000715, CL:0002201, CL:4030016, CL:0011031, CL:1000698, CL:1001109, CL:4030009, CL:4030014, CL:1000716, CL:1000850, CL:1001108, CL:4030013, CL:4030011, CL:0000650, CL:0002138, CL:4030010, CL:0000784, CL:0002573, CL:4030017, CL:4030020, CL:0000648\n",
      "\"cl_label\" values (61): kidney collecting duct principal cell, kidney interstitial cell, kidney loop of Henle thin descending limb epithelial cell, endothelial cell, epithelial cell of proximal tubule, kidney loop of Henle thick ascending limb epithelial cell, kidney loop of Henle thin ascending limb epithelial cell, kidney collecting duct intercalated cell, cytotoxic T cell, non-classical monocyte, conventional dendritic cell, T cell, kidney interstitial alternatively activated macrophage, mature NK T cell, plasma cell, mononuclear phagocyte, monocyte, B cell, natural killer cell, plasmacytoid dendritic cell, human, mast cell, kidney distal convoluted tubule epithelial cell, podocyte, parietal epithelial cell, kidney connecting tubule epithelial cell, kidney interstitial fibroblast, renal interstitial pericyte, neutrophil, papillary tips cell, neural cell, kidney inner medulla collecting duct principal cell, renal medullary fibroblast, vasa recta descending limb cell, kidney loop of Henle short descending thin limb epithelial cell, peritubular capillary endothelial cell, kidney cortex collecting duct principal cell, vasa recta ascending limb cell, glomerular capillary endothelial cell, endothelial cell of arteriole, kidney connecting tubule principal cell, kidney outer medulla collecting duct intercalated cell, kidney cortex collecting duct intercalated cell, renal beta-intercalated cell, epithelial cell of early distal convoluted tubule, monocyte-derived dendritic cell, kidney resident macrophage, kidney loop of Henle cortical thick ascending limb epithelial cell, epithelial cell of proximal tubule segment 1, kidney loop of Henle long descending thin limb inner medulla epithelial cell, kidney outer medulla collecting duct principal cell, macula densa epithelial cell, kidney loop of Henle medullary thick ascending limb epithelial cell, kidney loop of Henle long descending thin limb outer medulla epithelial cell, epithelial cell of proximal tubule segment 3, mesangial cell, endothelial cell of lymphatic vessel, epithelial cell of proximal tubule segment 2, Schwann cell, epithelial cell of late distal convoluted tubule, kidney connecting tubule alpha-intercalated cell, kidney granular cell\n",
      "\"gene_count\" values (23494): 10505.0, 9698.0, 1540.0, 4958.0, 6141.0, 10770.0, 5830.0, 9450.0, 3926.0, 8273.0, 1500.0, 5448.0, 6572.0, 13120.0, 8981.0, 7317.0, 21182.0, 9941.0, 9501.0, 9275.0, 10442.0, 5535.0, 9045.0, 14166.0, 18...\n",
      "\"age\" values (9): 50-59, 70-79, 20-29, 30-39, 40-49, 60-69, 80-89, 10-19, Unknown\n",
      "\"sex\" values (3): Male, Female, Unknown\n",
      "\"race\" values (5): European, Unknown, Black or African American, Asian, White\n",
      "\"disease\" values (3): normal, acute kidney failure, chronic kidney disease\n"
     ]
    }
   ],
   "source": [
    "df = pd.read_csv(\"all-normalized-obs.csv\")\n",
    "\n",
    "# Create a dictionary to store unique values for each column\n",
    "unique_values = {column: df[column].unique() for column in df.columns}\n",
    "\n",
    "# Print unique values for each column\n",
    "for column, values in unique_values.items():\n",
    "    if len(values) < 100:\n",
    "        print(f\"\\\"{column}\\\" values ({len(values)}): {', '.join(values)}\")\n",
    "    else:\n",
    "        print(f\"\\\"{column}\\\" values ({len(values)}): {', '.join(map(str, values))[:200]}...\")"
   ]
  }
 ],
 "metadata": {
  "kernelspec": {
   "display_name": ".venv",
   "language": "python",
   "name": "python3"
  },
  "language_info": {
   "codemirror_mode": {
    "name": "ipython",
    "version": 3
   },
   "file_extension": ".py",
   "mimetype": "text/x-python",
   "name": "python",
   "nbconvert_exporter": "python",
   "pygments_lexer": "ipython3",
   "version": "3.10.12"
  }
 },
 "nbformat": 4,
 "nbformat_minor": 2
}
