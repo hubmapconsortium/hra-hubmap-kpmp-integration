{
 "cells": [
  {
   "cell_type": "markdown",
   "id": "e838fd66-d251-4fb9-af32-a50cfbef3318",
   "metadata": {},
   "source": [
    "# Download Kidney Data from CellxGene"
   ]
  },
  {
   "cell_type": "code",
   "execution_count": 1,
   "id": "d8b46356-c96e-475a-ac73-0d59fbdf626d",
   "metadata": {},
   "outputs": [],
   "source": [
    "import requests"
   ]
  },
  {
   "cell_type": "markdown",
   "id": "c0c0dc3f-22be-4729-aae7-3fab95dbac4e",
   "metadata": {},
   "source": [
    "The website is  \n",
    "\"https://cellxgene.cziscience.com/collections/0f528c8a-a25c-4840-8fa3-d156fa11086f\"  \n",
    "This webstie contain 2 different data:  \n",
    "Single-nucleus RNA-seq of the Adult Human Kidney (Version 1.5)  \n",
    "Single-cell RNA-seq of the Adult Human Kidney (Version 1.5)  "
   ]
  },
  {
   "cell_type": "code",
   "execution_count": 2,
   "id": "7041d487-fcc0-4486-a708-2afbf41dc607",
   "metadata": {},
   "outputs": [
    {
     "name": "stdout",
     "output_type": "stream",
     "text": [
      "Data 1 downloaded and saved as dataset_1.h5ad\n"
     ]
    }
   ],
   "source": [
    "\n",
    "# single-nucleus RNA-seq data download\n",
    "url_1 = 'https://datasets.cellxgene.cziscience.com/5ccb0043-bb6f-4f00-b7e1-526d2726de9d.h5ad'\n",
    "\n",
    "# save dataset\n",
    "output_path_1 = 'dataset_1.h5ad'\n",
    "\n",
    "# download data\n",
    "response_1 = requests.get(url_1)\n",
    "with open(output_path_1, 'wb') as f:\n",
    "    f.write(response_1.content)\n",
    "    \n",
    "print(f'Data 1 downloaded and saved as {output_path_1}')\n"
   ]
  },
  {
   "cell_type": "code",
   "execution_count": 3,
   "id": "b5c82f09-b554-4681-a4f3-55e7561d70af",
   "metadata": {},
   "outputs": [
    {
     "name": "stdout",
     "output_type": "stream",
     "text": [
      "Data 2 downloaded and saved as dataset_2.h5ad\n"
     ]
    }
   ],
   "source": [
    "\n",
    "# Single-cell RNA-seq  data download\n",
    "url_1 = 'https://datasets.cellxgene.cziscience.com/1c360b0b-eb2f-45a3-aba9-056026b39fa5.h5ad'\n",
    "\n",
    "# save dataset\n",
    "output_path_2 = 'dataset_2.h5ad'\n",
    "\n",
    "# download data\n",
    "response_2 = requests.get(url_1)\n",
    "with open(output_path_2, 'wb') as f:\n",
    "    f.write(response_2.content)\n",
    "    \n",
    "print(f'Data 2 downloaded and saved as {output_path_2}')\n"
   ]
  }
 ],
 "metadata": {
  "kernelspec": {
   "display_name": "Python 3 (ipykernel)",
   "language": "python",
   "name": "python3"
  },
  "language_info": {
   "codemirror_mode": {
    "name": "ipython",
    "version": 3
   },
   "file_extension": ".py",
   "mimetype": "text/x-python",
   "name": "python",
   "nbconvert_exporter": "python",
   "pygments_lexer": "ipython3",
   "version": "3.10.14"
  }
 },
 "nbformat": 4,
 "nbformat_minor": 5
}
