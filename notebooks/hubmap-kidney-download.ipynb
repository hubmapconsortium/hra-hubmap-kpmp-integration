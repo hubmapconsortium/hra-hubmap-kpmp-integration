{
 "cells": [
  {
   "cell_type": "markdown",
   "id": "970f755b-0387-41ce-bd2f-ce247979746e",
   "metadata": {},
   "source": [
    "# Download Kidney Datasets from HuBMAP"
   ]
  },
  {
   "cell_type": "markdown",
   "id": "c2b32639-94f2-40e4-8842-d620e986d10a",
   "metadata": {},
   "source": [
    "## Imports / functions"
   ]
  },
  {
   "cell_type": "code",
   "execution_count": 1,
   "id": "6db30373-1d2a-4b3b-b354-343512779aa8",
   "metadata": {},
   "outputs": [],
   "source": [
    "import json\n",
    "import os\n",
    "import requests\n",
    "import warnings\n",
    "from urllib.request import urlretrieve"
   ]
  },
  {
   "cell_type": "code",
   "execution_count": 2,
   "id": "8e7a2b79-912a-4b86-8fdd-a0d034d03c4b",
   "metadata": {},
   "outputs": [],
   "source": [
    "def retrieve_files_remote(uuid, file_name, outdir='.'): \n",
    "    '''\n",
    "    For a given UUID and file name, retrieve this file and save it locally.\n",
    "\n",
    "    Parameters\n",
    "    ----------\n",
    "    uuid : str\n",
    "        UUID of dataset\n",
    "    file_name : str\n",
    "        relative location of desired file. \n",
    "    outdir : str, optional\n",
    "        name of output folder. Default: '.'\n",
    "    '''\n",
    "    url = 'https://assets.hubmapconsortium.org/' + uuid + '/' + file_name\n",
    "\n",
    "    extension = str.split(file_name, sep='.')[-1]\n",
    "\n",
    "    # check if relative file_name has multiple subfolders\n",
    "    # if so, extract the folder structure without the filename as a string\n",
    "    folder_structure = str.split(file_name, sep='/')[0:-1]\n",
    "    folder_structure_addition = '/' + '/'.join(folder_structure) + '/' if len(folder_structure) > 0 else ''\n",
    "\n",
    "    if not os.path.exists(outdir + '/' + uuid + '/' + file_name):\n",
    "        if not os.path.exists(outdir + '/' + uuid + folder_structure_addition):\n",
    "            os.makedirs(outdir + '/' + uuid + folder_structure_addition, exist_ok = True) # unlike os.mkdir, os.makedirs creates directories recursively\n",
    "        urlretrieve(url, outdir + '/' + uuid + '/' + file_name)\n",
    "        return 1\n",
    "    else:\n",
    "        return 0"
   ]
  },
  {
   "cell_type": "code",
   "execution_count": 3,
   "id": "9080577d-654d-4599-8ebe-8aa2a4b104ea",
   "metadata": {},
   "outputs": [],
   "source": [
    "search_api = \"https://search.api.hubmapconsortium.org/v3/portal/search\"\n",
    "\n",
    "def get_uuids():\n",
    "    '''\n",
    "    get all uuids for the kidney datasets we want to use\n",
    "    '''\n",
    "    hits = json.loads(\n",
    "        requests.post(\n",
    "            search_api,\n",
    "            json={\n",
    "                \"size\": 10000,\n",
    "                \"query\": {\n",
    "                    \"bool\": {\n",
    "                        \"must\": [\n",
    "                            {\"term\":{ \"files.rel_path.keyword\": \"expr.h5ad\" }}\n",
    "                        ],\n",
    "                        \"must_not\":[{\"exists\":{\"field\":\"next_revision_uuid\"}},{\"exists\":{\"field\":\"sub_status\"}}],\n",
    "                        \"should\":[\n",
    "                            {\"term\":{\"origin_samples.mapped_organ.keyword\":\"Kidney (Left)\"}},\n",
    "                            {\"term\":{\"origin_samples.mapped_organ.keyword\":\"Kidney (Right)\"}}\n",
    "                        ],\n",
    "                        \"minimum_should_match\" : 1,\n",
    "                    }\n",
    "                },\n",
    "                \"_source\": { \"includes\": [\"uuid\"] },\n",
    "            },\n",
    "        ).text\n",
    "    )[\"hits\"][\"hits\"]\n",
    "    return [ hit[\"_source\"][\"uuid\"] for hit in hits ]"
   ]
  },
  {
   "cell_type": "code",
   "execution_count": 4,
   "id": "d06b61b5-fe6e-45d6-8516-b6fe2930c611",
   "metadata": {},
   "outputs": [],
   "source": [
    "entity_api = \"https://entity.api.hubmapconsortium.org/entities/\"\n",
    "ancestors_api = \"https://entity.api.hubmapconsortium.org/ancestors/\"\n",
    "\n",
    "def save_dataset_metadata(uuid, outdir=\".\"):\n",
    "    dataset = json.loads(requests.get(entity_api + uuid).text)\n",
    "    dataset[\"ancestors\"] = json.loads(requests.get(ancestors_api + uuid).text)\n",
    "\n",
    "    with open(outdir + '/' + uuid + '/dataset.json', mode='w') as f:\n",
    "        f.write(json.dumps(dataset, indent=2))\n",
    "\n",
    "    return dataset"
   ]
  },
  {
   "cell_type": "code",
   "execution_count": 5,
   "id": "21c4ae10-81ea-42ab-84cf-8718d699bc62",
   "metadata": {},
   "outputs": [
    {
     "name": "stdout",
     "output_type": "stream",
     "text": [
      "128 kidney datasets with an h5ad file\n"
     ]
    }
   ],
   "source": [
    "uuids = get_uuids()\n",
    "print(len(uuids), \"kidney datasets with an h5ad file\")"
   ]
  },
  {
   "cell_type": "code",
   "execution_count": 6,
   "id": "426f6d22-e355-42be-bff7-5a3b51357f2f",
   "metadata": {},
   "outputs": [
    {
     "name": "stdout",
     "output_type": "stream",
     "text": [
      "256 files downloaded\n"
     ]
    }
   ],
   "source": [
    "files_downloaded = 0\n",
    "for uuid in uuids:\n",
    "    files_downloaded += retrieve_files_remote(uuid, \"expr.h5ad\", \"datasets\")\n",
    "    files_downloaded += retrieve_files_remote(uuid, \"secondary_analysis.h5ad\", \"datasets\")\n",
    "print(files_downloaded, \"files downloaded\")"
   ]
  },
  {
   "cell_type": "code",
   "execution_count": 7,
   "id": "307ff094-18af-49ab-b591-d7ce8c2ec441",
   "metadata": {},
   "outputs": [
    {
     "name": "stdout",
     "output_type": "stream",
     "text": [
      "128 datasets' metadata saved\n"
     ]
    }
   ],
   "source": [
    "datasets = [ save_dataset_metadata(uuid, 'datasets') for uuid in uuids ]\n",
    "print(len(datasets), \"datasets' metadata saved\")"
   ]
  }
 ],
 "metadata": {
  "kernelspec": {
   "display_name": "Python 3 (ipykernel)",
   "language": "python",
   "name": "python3"
  },
  "language_info": {
   "codemirror_mode": {
    "name": "ipython",
    "version": 3
   },
   "file_extension": ".py",
   "mimetype": "text/x-python",
   "name": "python",
   "nbconvert_exporter": "python",
   "pygments_lexer": "ipython3",
   "version": "3.10.12"
  }
 },
 "nbformat": 4,
 "nbformat_minor": 5
}
